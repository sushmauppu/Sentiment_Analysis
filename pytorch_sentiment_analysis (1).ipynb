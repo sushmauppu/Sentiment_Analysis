{
  "cells": [
    {
      "cell_type": "code",
      "source": [
        "from google.colab import drive\n",
        "drive.mount('/content/drive')"
      ],
      "metadata": {
        "colab": {
          "base_uri": "https://localhost:8080/"
        },
        "id": "70_eTphNbO2j",
        "outputId": "06ff5261-e57e-4f2c-994b-c511366b2dc5"
      },
      "id": "70_eTphNbO2j",
      "execution_count": 19,
      "outputs": [
        {
          "output_type": "stream",
          "name": "stdout",
          "text": [
            "Drive already mounted at /content/drive; to attempt to forcibly remount, call drive.mount(\"/content/drive\", force_remount=True).\n"
          ]
        }
      ]
    },
    {
      "cell_type": "code",
      "execution_count": 20,
      "id": "d1ada262",
      "metadata": {
        "_cell_guid": "b1076dfc-b9ad-4769-8c92-a6c4dae69d19",
        "_uuid": "8f2839f25d086af736a60e9eeb907d3b93b6e0e5",
        "execution": {
          "iopub.execute_input": "2024-09-07T09:58:09.139826Z",
          "iopub.status.busy": "2024-09-07T09:58:09.139491Z",
          "iopub.status.idle": "2024-09-07T09:58:09.932677Z",
          "shell.execute_reply": "2024-09-07T09:58:09.931640Z"
        },
        "papermill": {
          "duration": 0.810221,
          "end_time": "2024-09-07T09:58:09.935516",
          "exception": false,
          "start_time": "2024-09-07T09:58:09.125295",
          "status": "completed"
        },
        "tags": [],
        "id": "d1ada262"
      },
      "outputs": [],
      "source": [
        "import numpy as np\n",
        "import pandas as pd\n",
        "import os\n"
      ]
    },
    {
      "cell_type": "markdown",
      "id": "dceb9eb7",
      "metadata": {
        "papermill": {
          "duration": 0.012129,
          "end_time": "2024-09-07T09:58:09.960577",
          "exception": false,
          "start_time": "2024-09-07T09:58:09.948448",
          "status": "completed"
        },
        "tags": [],
        "id": "dceb9eb7"
      },
      "source": [
        "## Import the necessary libraries"
      ]
    },
    {
      "cell_type": "code",
      "execution_count": 21,
      "id": "d631bd8d",
      "metadata": {
        "execution": {
          "iopub.execute_input": "2024-09-07T09:58:09.986534Z",
          "iopub.status.busy": "2024-09-07T09:58:09.986048Z",
          "iopub.status.idle": "2024-09-07T09:58:13.475389Z",
          "shell.execute_reply": "2024-09-07T09:58:13.474501Z"
        },
        "papermill": {
          "duration": 3.505331,
          "end_time": "2024-09-07T09:58:13.477923",
          "exception": false,
          "start_time": "2024-09-07T09:58:09.972592",
          "status": "completed"
        },
        "tags": [],
        "id": "d631bd8d"
      },
      "outputs": [],
      "source": [
        "import torch.nn as nn\n",
        "import torch.optim as optim\n",
        "from torch.utils.data import DataLoader,TensorDataset"
      ]
    },
    {
      "cell_type": "markdown",
      "id": "ceb83e71",
      "metadata": {
        "papermill": {
          "duration": 0.011961,
          "end_time": "2024-09-07T09:58:13.502260",
          "exception": false,
          "start_time": "2024-09-07T09:58:13.490299",
          "status": "completed"
        },
        "tags": [],
        "id": "ceb83e71"
      },
      "source": [
        "## Load the dataset from the directory and save it into the file"
      ]
    },
    {
      "cell_type": "code",
      "execution_count": 22,
      "id": "49d4b7ed",
      "metadata": {
        "execution": {
          "iopub.execute_input": "2024-09-07T09:58:13.527467Z",
          "iopub.status.busy": "2024-09-07T09:58:13.527039Z",
          "iopub.status.idle": "2024-09-07T09:58:14.127198Z",
          "shell.execute_reply": "2024-09-07T09:58:14.126257Z"
        },
        "papermill": {
          "duration": 0.615691,
          "end_time": "2024-09-07T09:58:14.129818",
          "exception": false,
          "start_time": "2024-09-07T09:58:13.514127",
          "status": "completed"
        },
        "tags": [],
        "id": "49d4b7ed"
      },
      "outputs": [],
      "source": [
        "df = pd.read_csv('/content/drive/MyDrive/Twitter_Data.csv')"
      ]
    },
    {
      "cell_type": "code",
      "execution_count": 23,
      "id": "537735da",
      "metadata": {
        "execution": {
          "iopub.execute_input": "2024-09-07T09:58:14.160503Z",
          "iopub.status.busy": "2024-09-07T09:58:14.160145Z",
          "iopub.status.idle": "2024-09-07T09:58:14.181665Z",
          "shell.execute_reply": "2024-09-07T09:58:14.180798Z"
        },
        "papermill": {
          "duration": 0.03895,
          "end_time": "2024-09-07T09:58:14.183612",
          "exception": false,
          "start_time": "2024-09-07T09:58:14.144662",
          "status": "completed"
        },
        "tags": [],
        "colab": {
          "base_uri": "https://localhost:8080/",
          "height": 206
        },
        "id": "537735da",
        "outputId": "ae846527-9a7b-444b-843d-3f0f80b6beb7"
      },
      "outputs": [
        {
          "output_type": "execute_result",
          "data": {
            "text/plain": [
              "                                          clean_text  category\n",
              "0  when modi promised “minimum government maximum...      -1.0\n",
              "1  talk all the nonsense and continue all the dra...       0.0\n",
              "2  what did just say vote for modi  welcome bjp t...       1.0\n",
              "3  asking his supporters prefix chowkidar their n...       1.0\n",
              "4  answer who among these the most powerful world...       1.0"
            ],
            "text/html": [
              "\n",
              "  <div id=\"df-94378417-287c-438a-83fd-9aa2b590c4c2\" class=\"colab-df-container\">\n",
              "    <div>\n",
              "<style scoped>\n",
              "    .dataframe tbody tr th:only-of-type {\n",
              "        vertical-align: middle;\n",
              "    }\n",
              "\n",
              "    .dataframe tbody tr th {\n",
              "        vertical-align: top;\n",
              "    }\n",
              "\n",
              "    .dataframe thead th {\n",
              "        text-align: right;\n",
              "    }\n",
              "</style>\n",
              "<table border=\"1\" class=\"dataframe\">\n",
              "  <thead>\n",
              "    <tr style=\"text-align: right;\">\n",
              "      <th></th>\n",
              "      <th>clean_text</th>\n",
              "      <th>category</th>\n",
              "    </tr>\n",
              "  </thead>\n",
              "  <tbody>\n",
              "    <tr>\n",
              "      <th>0</th>\n",
              "      <td>when modi promised “minimum government maximum...</td>\n",
              "      <td>-1.0</td>\n",
              "    </tr>\n",
              "    <tr>\n",
              "      <th>1</th>\n",
              "      <td>talk all the nonsense and continue all the dra...</td>\n",
              "      <td>0.0</td>\n",
              "    </tr>\n",
              "    <tr>\n",
              "      <th>2</th>\n",
              "      <td>what did just say vote for modi  welcome bjp t...</td>\n",
              "      <td>1.0</td>\n",
              "    </tr>\n",
              "    <tr>\n",
              "      <th>3</th>\n",
              "      <td>asking his supporters prefix chowkidar their n...</td>\n",
              "      <td>1.0</td>\n",
              "    </tr>\n",
              "    <tr>\n",
              "      <th>4</th>\n",
              "      <td>answer who among these the most powerful world...</td>\n",
              "      <td>1.0</td>\n",
              "    </tr>\n",
              "  </tbody>\n",
              "</table>\n",
              "</div>\n",
              "    <div class=\"colab-df-buttons\">\n",
              "\n",
              "  <div class=\"colab-df-container\">\n",
              "    <button class=\"colab-df-convert\" onclick=\"convertToInteractive('df-94378417-287c-438a-83fd-9aa2b590c4c2')\"\n",
              "            title=\"Convert this dataframe to an interactive table.\"\n",
              "            style=\"display:none;\">\n",
              "\n",
              "  <svg xmlns=\"http://www.w3.org/2000/svg\" height=\"24px\" viewBox=\"0 -960 960 960\">\n",
              "    <path d=\"M120-120v-720h720v720H120Zm60-500h600v-160H180v160Zm220 220h160v-160H400v160Zm0 220h160v-160H400v160ZM180-400h160v-160H180v160Zm440 0h160v-160H620v160ZM180-180h160v-160H180v160Zm440 0h160v-160H620v160Z\"/>\n",
              "  </svg>\n",
              "    </button>\n",
              "\n",
              "  <style>\n",
              "    .colab-df-container {\n",
              "      display:flex;\n",
              "      gap: 12px;\n",
              "    }\n",
              "\n",
              "    .colab-df-convert {\n",
              "      background-color: #E8F0FE;\n",
              "      border: none;\n",
              "      border-radius: 50%;\n",
              "      cursor: pointer;\n",
              "      display: none;\n",
              "      fill: #1967D2;\n",
              "      height: 32px;\n",
              "      padding: 0 0 0 0;\n",
              "      width: 32px;\n",
              "    }\n",
              "\n",
              "    .colab-df-convert:hover {\n",
              "      background-color: #E2EBFA;\n",
              "      box-shadow: 0px 1px 2px rgba(60, 64, 67, 0.3), 0px 1px 3px 1px rgba(60, 64, 67, 0.15);\n",
              "      fill: #174EA6;\n",
              "    }\n",
              "\n",
              "    .colab-df-buttons div {\n",
              "      margin-bottom: 4px;\n",
              "    }\n",
              "\n",
              "    [theme=dark] .colab-df-convert {\n",
              "      background-color: #3B4455;\n",
              "      fill: #D2E3FC;\n",
              "    }\n",
              "\n",
              "    [theme=dark] .colab-df-convert:hover {\n",
              "      background-color: #434B5C;\n",
              "      box-shadow: 0px 1px 3px 1px rgba(0, 0, 0, 0.15);\n",
              "      filter: drop-shadow(0px 1px 2px rgba(0, 0, 0, 0.3));\n",
              "      fill: #FFFFFF;\n",
              "    }\n",
              "  </style>\n",
              "\n",
              "    <script>\n",
              "      const buttonEl =\n",
              "        document.querySelector('#df-94378417-287c-438a-83fd-9aa2b590c4c2 button.colab-df-convert');\n",
              "      buttonEl.style.display =\n",
              "        google.colab.kernel.accessAllowed ? 'block' : 'none';\n",
              "\n",
              "      async function convertToInteractive(key) {\n",
              "        const element = document.querySelector('#df-94378417-287c-438a-83fd-9aa2b590c4c2');\n",
              "        const dataTable =\n",
              "          await google.colab.kernel.invokeFunction('convertToInteractive',\n",
              "                                                    [key], {});\n",
              "        if (!dataTable) return;\n",
              "\n",
              "        const docLinkHtml = 'Like what you see? Visit the ' +\n",
              "          '<a target=\"_blank\" href=https://colab.research.google.com/notebooks/data_table.ipynb>data table notebook</a>'\n",
              "          + ' to learn more about interactive tables.';\n",
              "        element.innerHTML = '';\n",
              "        dataTable['output_type'] = 'display_data';\n",
              "        await google.colab.output.renderOutput(dataTable, element);\n",
              "        const docLink = document.createElement('div');\n",
              "        docLink.innerHTML = docLinkHtml;\n",
              "        element.appendChild(docLink);\n",
              "      }\n",
              "    </script>\n",
              "  </div>\n",
              "\n",
              "\n",
              "<div id=\"df-88137dbb-28c7-4164-a1f4-805bdfcb1bd8\">\n",
              "  <button class=\"colab-df-quickchart\" onclick=\"quickchart('df-88137dbb-28c7-4164-a1f4-805bdfcb1bd8')\"\n",
              "            title=\"Suggest charts\"\n",
              "            style=\"display:none;\">\n",
              "\n",
              "<svg xmlns=\"http://www.w3.org/2000/svg\" height=\"24px\"viewBox=\"0 0 24 24\"\n",
              "     width=\"24px\">\n",
              "    <g>\n",
              "        <path d=\"M19 3H5c-1.1 0-2 .9-2 2v14c0 1.1.9 2 2 2h14c1.1 0 2-.9 2-2V5c0-1.1-.9-2-2-2zM9 17H7v-7h2v7zm4 0h-2V7h2v10zm4 0h-2v-4h2v4z\"/>\n",
              "    </g>\n",
              "</svg>\n",
              "  </button>\n",
              "\n",
              "<style>\n",
              "  .colab-df-quickchart {\n",
              "      --bg-color: #E8F0FE;\n",
              "      --fill-color: #1967D2;\n",
              "      --hover-bg-color: #E2EBFA;\n",
              "      --hover-fill-color: #174EA6;\n",
              "      --disabled-fill-color: #AAA;\n",
              "      --disabled-bg-color: #DDD;\n",
              "  }\n",
              "\n",
              "  [theme=dark] .colab-df-quickchart {\n",
              "      --bg-color: #3B4455;\n",
              "      --fill-color: #D2E3FC;\n",
              "      --hover-bg-color: #434B5C;\n",
              "      --hover-fill-color: #FFFFFF;\n",
              "      --disabled-bg-color: #3B4455;\n",
              "      --disabled-fill-color: #666;\n",
              "  }\n",
              "\n",
              "  .colab-df-quickchart {\n",
              "    background-color: var(--bg-color);\n",
              "    border: none;\n",
              "    border-radius: 50%;\n",
              "    cursor: pointer;\n",
              "    display: none;\n",
              "    fill: var(--fill-color);\n",
              "    height: 32px;\n",
              "    padding: 0;\n",
              "    width: 32px;\n",
              "  }\n",
              "\n",
              "  .colab-df-quickchart:hover {\n",
              "    background-color: var(--hover-bg-color);\n",
              "    box-shadow: 0 1px 2px rgba(60, 64, 67, 0.3), 0 1px 3px 1px rgba(60, 64, 67, 0.15);\n",
              "    fill: var(--button-hover-fill-color);\n",
              "  }\n",
              "\n",
              "  .colab-df-quickchart-complete:disabled,\n",
              "  .colab-df-quickchart-complete:disabled:hover {\n",
              "    background-color: var(--disabled-bg-color);\n",
              "    fill: var(--disabled-fill-color);\n",
              "    box-shadow: none;\n",
              "  }\n",
              "\n",
              "  .colab-df-spinner {\n",
              "    border: 2px solid var(--fill-color);\n",
              "    border-color: transparent;\n",
              "    border-bottom-color: var(--fill-color);\n",
              "    animation:\n",
              "      spin 1s steps(1) infinite;\n",
              "  }\n",
              "\n",
              "  @keyframes spin {\n",
              "    0% {\n",
              "      border-color: transparent;\n",
              "      border-bottom-color: var(--fill-color);\n",
              "      border-left-color: var(--fill-color);\n",
              "    }\n",
              "    20% {\n",
              "      border-color: transparent;\n",
              "      border-left-color: var(--fill-color);\n",
              "      border-top-color: var(--fill-color);\n",
              "    }\n",
              "    30% {\n",
              "      border-color: transparent;\n",
              "      border-left-color: var(--fill-color);\n",
              "      border-top-color: var(--fill-color);\n",
              "      border-right-color: var(--fill-color);\n",
              "    }\n",
              "    40% {\n",
              "      border-color: transparent;\n",
              "      border-right-color: var(--fill-color);\n",
              "      border-top-color: var(--fill-color);\n",
              "    }\n",
              "    60% {\n",
              "      border-color: transparent;\n",
              "      border-right-color: var(--fill-color);\n",
              "    }\n",
              "    80% {\n",
              "      border-color: transparent;\n",
              "      border-right-color: var(--fill-color);\n",
              "      border-bottom-color: var(--fill-color);\n",
              "    }\n",
              "    90% {\n",
              "      border-color: transparent;\n",
              "      border-bottom-color: var(--fill-color);\n",
              "    }\n",
              "  }\n",
              "</style>\n",
              "\n",
              "  <script>\n",
              "    async function quickchart(key) {\n",
              "      const quickchartButtonEl =\n",
              "        document.querySelector('#' + key + ' button');\n",
              "      quickchartButtonEl.disabled = true;  // To prevent multiple clicks.\n",
              "      quickchartButtonEl.classList.add('colab-df-spinner');\n",
              "      try {\n",
              "        const charts = await google.colab.kernel.invokeFunction(\n",
              "            'suggestCharts', [key], {});\n",
              "      } catch (error) {\n",
              "        console.error('Error during call to suggestCharts:', error);\n",
              "      }\n",
              "      quickchartButtonEl.classList.remove('colab-df-spinner');\n",
              "      quickchartButtonEl.classList.add('colab-df-quickchart-complete');\n",
              "    }\n",
              "    (() => {\n",
              "      let quickchartButtonEl =\n",
              "        document.querySelector('#df-88137dbb-28c7-4164-a1f4-805bdfcb1bd8 button');\n",
              "      quickchartButtonEl.style.display =\n",
              "        google.colab.kernel.accessAllowed ? 'block' : 'none';\n",
              "    })();\n",
              "  </script>\n",
              "</div>\n",
              "\n",
              "    </div>\n",
              "  </div>\n"
            ],
            "application/vnd.google.colaboratory.intrinsic+json": {
              "type": "dataframe",
              "variable_name": "df"
            }
          },
          "metadata": {},
          "execution_count": 23
        }
      ],
      "source": [
        "df.head()"
      ]
    },
    {
      "cell_type": "code",
      "execution_count": 24,
      "id": "3e9301a7",
      "metadata": {
        "execution": {
          "iopub.execute_input": "2024-09-07T09:58:14.210578Z",
          "iopub.status.busy": "2024-09-07T09:58:14.210297Z",
          "iopub.status.idle": "2024-09-07T09:58:14.215786Z",
          "shell.execute_reply": "2024-09-07T09:58:14.215021Z"
        },
        "papermill": {
          "duration": 0.021659,
          "end_time": "2024-09-07T09:58:14.217714",
          "exception": false,
          "start_time": "2024-09-07T09:58:14.196055",
          "status": "completed"
        },
        "tags": [],
        "colab": {
          "base_uri": "https://localhost:8080/"
        },
        "id": "3e9301a7",
        "outputId": "62e9174c-ba14-47ce-ea58-3349f86c265c"
      },
      "outputs": [
        {
          "output_type": "execute_result",
          "data": {
            "text/plain": [
              "(162980, 2)"
            ]
          },
          "metadata": {},
          "execution_count": 24
        }
      ],
      "source": [
        "df.shape"
      ]
    },
    {
      "cell_type": "code",
      "execution_count": 25,
      "id": "40e3bc2d",
      "metadata": {
        "execution": {
          "iopub.execute_input": "2024-09-07T09:58:14.243671Z",
          "iopub.status.busy": "2024-09-07T09:58:14.243378Z",
          "iopub.status.idle": "2024-09-07T09:58:14.247506Z",
          "shell.execute_reply": "2024-09-07T09:58:14.246642Z"
        },
        "papermill": {
          "duration": 0.019623,
          "end_time": "2024-09-07T09:58:14.249718",
          "exception": false,
          "start_time": "2024-09-07T09:58:14.230095",
          "status": "completed"
        },
        "tags": [],
        "id": "40e3bc2d"
      },
      "outputs": [],
      "source": [
        "df = df.iloc[:5000,:]"
      ]
    },
    {
      "cell_type": "code",
      "execution_count": 26,
      "id": "da963f64",
      "metadata": {
        "execution": {
          "iopub.execute_input": "2024-09-07T09:58:14.276342Z",
          "iopub.status.busy": "2024-09-07T09:58:14.276060Z",
          "iopub.status.idle": "2024-09-07T09:58:14.281616Z",
          "shell.execute_reply": "2024-09-07T09:58:14.280675Z"
        },
        "papermill": {
          "duration": 0.021336,
          "end_time": "2024-09-07T09:58:14.283794",
          "exception": false,
          "start_time": "2024-09-07T09:58:14.262458",
          "status": "completed"
        },
        "tags": [],
        "colab": {
          "base_uri": "https://localhost:8080/"
        },
        "id": "da963f64",
        "outputId": "71b874c6-573e-4f6c-9756-94fb98c790ed"
      },
      "outputs": [
        {
          "output_type": "execute_result",
          "data": {
            "text/plain": [
              "(5000, 2)"
            ]
          },
          "metadata": {},
          "execution_count": 26
        }
      ],
      "source": [
        "df.shape"
      ]
    },
    {
      "cell_type": "markdown",
      "id": "01433664",
      "metadata": {
        "papermill": {
          "duration": 0.012521,
          "end_time": "2024-09-07T09:58:14.309475",
          "exception": false,
          "start_time": "2024-09-07T09:58:14.296954",
          "status": "completed"
        },
        "tags": [],
        "id": "01433664"
      },
      "source": [
        "## Check for null values"
      ]
    },
    {
      "cell_type": "code",
      "execution_count": 27,
      "id": "3aa83dcf",
      "metadata": {
        "execution": {
          "iopub.execute_input": "2024-09-07T09:58:14.341686Z",
          "iopub.status.busy": "2024-09-07T09:58:14.341153Z",
          "iopub.status.idle": "2024-09-07T09:58:14.352608Z",
          "shell.execute_reply": "2024-09-07T09:58:14.351372Z"
        },
        "papermill": {
          "duration": 0.031322,
          "end_time": "2024-09-07T09:58:14.355439",
          "exception": false,
          "start_time": "2024-09-07T09:58:14.324117",
          "status": "completed"
        },
        "tags": [],
        "colab": {
          "base_uri": "https://localhost:8080/",
          "height": 147
        },
        "id": "3aa83dcf",
        "outputId": "e0671ce8-050b-4d0a-af82-d0cf3aa8d986"
      },
      "outputs": [
        {
          "output_type": "execute_result",
          "data": {
            "text/plain": [
              "clean_text    1\n",
              "category      0\n",
              "dtype: int64"
            ],
            "text/html": [
              "<div>\n",
              "<style scoped>\n",
              "    .dataframe tbody tr th:only-of-type {\n",
              "        vertical-align: middle;\n",
              "    }\n",
              "\n",
              "    .dataframe tbody tr th {\n",
              "        vertical-align: top;\n",
              "    }\n",
              "\n",
              "    .dataframe thead th {\n",
              "        text-align: right;\n",
              "    }\n",
              "</style>\n",
              "<table border=\"1\" class=\"dataframe\">\n",
              "  <thead>\n",
              "    <tr style=\"text-align: right;\">\n",
              "      <th></th>\n",
              "      <th>0</th>\n",
              "    </tr>\n",
              "  </thead>\n",
              "  <tbody>\n",
              "    <tr>\n",
              "      <th>clean_text</th>\n",
              "      <td>1</td>\n",
              "    </tr>\n",
              "    <tr>\n",
              "      <th>category</th>\n",
              "      <td>0</td>\n",
              "    </tr>\n",
              "  </tbody>\n",
              "</table>\n",
              "</div><br><label><b>dtype:</b> int64</label>"
            ]
          },
          "metadata": {},
          "execution_count": 27
        }
      ],
      "source": [
        "df.isna().sum()"
      ]
    },
    {
      "cell_type": "markdown",
      "id": "08441ff5",
      "metadata": {
        "papermill": {
          "duration": 0.012425,
          "end_time": "2024-09-07T09:58:14.385080",
          "exception": false,
          "start_time": "2024-09-07T09:58:14.372655",
          "status": "completed"
        },
        "tags": [],
        "id": "08441ff5"
      },
      "source": [
        "## Drop the null values in the dataset"
      ]
    },
    {
      "cell_type": "code",
      "execution_count": 28,
      "id": "92dd06fe",
      "metadata": {
        "execution": {
          "iopub.execute_input": "2024-09-07T09:58:14.411591Z",
          "iopub.status.busy": "2024-09-07T09:58:14.411253Z",
          "iopub.status.idle": "2024-09-07T09:58:14.421499Z",
          "shell.execute_reply": "2024-09-07T09:58:14.420646Z"
        },
        "papermill": {
          "duration": 0.0259,
          "end_time": "2024-09-07T09:58:14.423584",
          "exception": false,
          "start_time": "2024-09-07T09:58:14.397684",
          "status": "completed"
        },
        "tags": [],
        "id": "92dd06fe"
      },
      "outputs": [],
      "source": [
        "df = df.dropna()"
      ]
    },
    {
      "cell_type": "code",
      "execution_count": 29,
      "id": "eee395d6",
      "metadata": {
        "execution": {
          "iopub.execute_input": "2024-09-07T09:58:14.461251Z",
          "iopub.status.busy": "2024-09-07T09:58:14.460724Z",
          "iopub.status.idle": "2024-09-07T09:58:14.470808Z",
          "shell.execute_reply": "2024-09-07T09:58:14.469667Z"
        },
        "papermill": {
          "duration": 0.03157,
          "end_time": "2024-09-07T09:58:14.473295",
          "exception": false,
          "start_time": "2024-09-07T09:58:14.441725",
          "status": "completed"
        },
        "tags": [],
        "colab": {
          "base_uri": "https://localhost:8080/",
          "height": 147
        },
        "id": "eee395d6",
        "outputId": "edf4d632-b50a-40a9-9482-78e2dabe1571"
      },
      "outputs": [
        {
          "output_type": "execute_result",
          "data": {
            "text/plain": [
              "clean_text    0\n",
              "category      0\n",
              "dtype: int64"
            ],
            "text/html": [
              "<div>\n",
              "<style scoped>\n",
              "    .dataframe tbody tr th:only-of-type {\n",
              "        vertical-align: middle;\n",
              "    }\n",
              "\n",
              "    .dataframe tbody tr th {\n",
              "        vertical-align: top;\n",
              "    }\n",
              "\n",
              "    .dataframe thead th {\n",
              "        text-align: right;\n",
              "    }\n",
              "</style>\n",
              "<table border=\"1\" class=\"dataframe\">\n",
              "  <thead>\n",
              "    <tr style=\"text-align: right;\">\n",
              "      <th></th>\n",
              "      <th>0</th>\n",
              "    </tr>\n",
              "  </thead>\n",
              "  <tbody>\n",
              "    <tr>\n",
              "      <th>clean_text</th>\n",
              "      <td>0</td>\n",
              "    </tr>\n",
              "    <tr>\n",
              "      <th>category</th>\n",
              "      <td>0</td>\n",
              "    </tr>\n",
              "  </tbody>\n",
              "</table>\n",
              "</div><br><label><b>dtype:</b> int64</label>"
            ]
          },
          "metadata": {},
          "execution_count": 29
        }
      ],
      "source": [
        "df.isna().sum()"
      ]
    },
    {
      "cell_type": "code",
      "execution_count": 30,
      "id": "8eea143b",
      "metadata": {
        "execution": {
          "iopub.execute_input": "2024-09-07T09:58:14.505505Z",
          "iopub.status.busy": "2024-09-07T09:58:14.505209Z",
          "iopub.status.idle": "2024-09-07T09:58:14.525678Z",
          "shell.execute_reply": "2024-09-07T09:58:14.524677Z"
        },
        "papermill": {
          "duration": 0.03892,
          "end_time": "2024-09-07T09:58:14.527751",
          "exception": false,
          "start_time": "2024-09-07T09:58:14.488831",
          "status": "completed"
        },
        "tags": [],
        "colab": {
          "base_uri": "https://localhost:8080/"
        },
        "id": "8eea143b",
        "outputId": "2d0ae093-2c83-47ec-ca59-c22f3dd99047"
      },
      "outputs": [
        {
          "output_type": "stream",
          "name": "stdout",
          "text": [
            "<class 'pandas.core.frame.DataFrame'>\n",
            "Index: 4999 entries, 0 to 4999\n",
            "Data columns (total 2 columns):\n",
            " #   Column      Non-Null Count  Dtype  \n",
            "---  ------      --------------  -----  \n",
            " 0   clean_text  4999 non-null   object \n",
            " 1   category    4999 non-null   float64\n",
            "dtypes: float64(1), object(1)\n",
            "memory usage: 117.2+ KB\n"
          ]
        }
      ],
      "source": [
        "df.info()"
      ]
    },
    {
      "cell_type": "code",
      "execution_count": 31,
      "id": "c9433218",
      "metadata": {
        "execution": {
          "iopub.execute_input": "2024-09-07T09:58:14.555807Z",
          "iopub.status.busy": "2024-09-07T09:58:14.555464Z",
          "iopub.status.idle": "2024-09-07T09:58:14.569300Z",
          "shell.execute_reply": "2024-09-07T09:58:14.568384Z"
        },
        "papermill": {
          "duration": 0.029606,
          "end_time": "2024-09-07T09:58:14.571573",
          "exception": false,
          "start_time": "2024-09-07T09:58:14.541967",
          "status": "completed"
        },
        "tags": [],
        "colab": {
          "base_uri": "https://localhost:8080/",
          "height": 300
        },
        "id": "c9433218",
        "outputId": "cae1d56b-3d81-4f71-dea8-71110ab067f5"
      },
      "outputs": [
        {
          "output_type": "execute_result",
          "data": {
            "text/plain": [
              "          category\n",
              "count  4999.000000\n",
              "mean      0.206441\n",
              "std       0.773841\n",
              "min      -1.000000\n",
              "25%       0.000000\n",
              "50%       0.000000\n",
              "75%       1.000000\n",
              "max       1.000000"
            ],
            "text/html": [
              "\n",
              "  <div id=\"df-9883d3ff-01b6-46aa-b581-62adc7185d1d\" class=\"colab-df-container\">\n",
              "    <div>\n",
              "<style scoped>\n",
              "    .dataframe tbody tr th:only-of-type {\n",
              "        vertical-align: middle;\n",
              "    }\n",
              "\n",
              "    .dataframe tbody tr th {\n",
              "        vertical-align: top;\n",
              "    }\n",
              "\n",
              "    .dataframe thead th {\n",
              "        text-align: right;\n",
              "    }\n",
              "</style>\n",
              "<table border=\"1\" class=\"dataframe\">\n",
              "  <thead>\n",
              "    <tr style=\"text-align: right;\">\n",
              "      <th></th>\n",
              "      <th>category</th>\n",
              "    </tr>\n",
              "  </thead>\n",
              "  <tbody>\n",
              "    <tr>\n",
              "      <th>count</th>\n",
              "      <td>4999.000000</td>\n",
              "    </tr>\n",
              "    <tr>\n",
              "      <th>mean</th>\n",
              "      <td>0.206441</td>\n",
              "    </tr>\n",
              "    <tr>\n",
              "      <th>std</th>\n",
              "      <td>0.773841</td>\n",
              "    </tr>\n",
              "    <tr>\n",
              "      <th>min</th>\n",
              "      <td>-1.000000</td>\n",
              "    </tr>\n",
              "    <tr>\n",
              "      <th>25%</th>\n",
              "      <td>0.000000</td>\n",
              "    </tr>\n",
              "    <tr>\n",
              "      <th>50%</th>\n",
              "      <td>0.000000</td>\n",
              "    </tr>\n",
              "    <tr>\n",
              "      <th>75%</th>\n",
              "      <td>1.000000</td>\n",
              "    </tr>\n",
              "    <tr>\n",
              "      <th>max</th>\n",
              "      <td>1.000000</td>\n",
              "    </tr>\n",
              "  </tbody>\n",
              "</table>\n",
              "</div>\n",
              "    <div class=\"colab-df-buttons\">\n",
              "\n",
              "  <div class=\"colab-df-container\">\n",
              "    <button class=\"colab-df-convert\" onclick=\"convertToInteractive('df-9883d3ff-01b6-46aa-b581-62adc7185d1d')\"\n",
              "            title=\"Convert this dataframe to an interactive table.\"\n",
              "            style=\"display:none;\">\n",
              "\n",
              "  <svg xmlns=\"http://www.w3.org/2000/svg\" height=\"24px\" viewBox=\"0 -960 960 960\">\n",
              "    <path d=\"M120-120v-720h720v720H120Zm60-500h600v-160H180v160Zm220 220h160v-160H400v160Zm0 220h160v-160H400v160ZM180-400h160v-160H180v160Zm440 0h160v-160H620v160ZM180-180h160v-160H180v160Zm440 0h160v-160H620v160Z\"/>\n",
              "  </svg>\n",
              "    </button>\n",
              "\n",
              "  <style>\n",
              "    .colab-df-container {\n",
              "      display:flex;\n",
              "      gap: 12px;\n",
              "    }\n",
              "\n",
              "    .colab-df-convert {\n",
              "      background-color: #E8F0FE;\n",
              "      border: none;\n",
              "      border-radius: 50%;\n",
              "      cursor: pointer;\n",
              "      display: none;\n",
              "      fill: #1967D2;\n",
              "      height: 32px;\n",
              "      padding: 0 0 0 0;\n",
              "      width: 32px;\n",
              "    }\n",
              "\n",
              "    .colab-df-convert:hover {\n",
              "      background-color: #E2EBFA;\n",
              "      box-shadow: 0px 1px 2px rgba(60, 64, 67, 0.3), 0px 1px 3px 1px rgba(60, 64, 67, 0.15);\n",
              "      fill: #174EA6;\n",
              "    }\n",
              "\n",
              "    .colab-df-buttons div {\n",
              "      margin-bottom: 4px;\n",
              "    }\n",
              "\n",
              "    [theme=dark] .colab-df-convert {\n",
              "      background-color: #3B4455;\n",
              "      fill: #D2E3FC;\n",
              "    }\n",
              "\n",
              "    [theme=dark] .colab-df-convert:hover {\n",
              "      background-color: #434B5C;\n",
              "      box-shadow: 0px 1px 3px 1px rgba(0, 0, 0, 0.15);\n",
              "      filter: drop-shadow(0px 1px 2px rgba(0, 0, 0, 0.3));\n",
              "      fill: #FFFFFF;\n",
              "    }\n",
              "  </style>\n",
              "\n",
              "    <script>\n",
              "      const buttonEl =\n",
              "        document.querySelector('#df-9883d3ff-01b6-46aa-b581-62adc7185d1d button.colab-df-convert');\n",
              "      buttonEl.style.display =\n",
              "        google.colab.kernel.accessAllowed ? 'block' : 'none';\n",
              "\n",
              "      async function convertToInteractive(key) {\n",
              "        const element = document.querySelector('#df-9883d3ff-01b6-46aa-b581-62adc7185d1d');\n",
              "        const dataTable =\n",
              "          await google.colab.kernel.invokeFunction('convertToInteractive',\n",
              "                                                    [key], {});\n",
              "        if (!dataTable) return;\n",
              "\n",
              "        const docLinkHtml = 'Like what you see? Visit the ' +\n",
              "          '<a target=\"_blank\" href=https://colab.research.google.com/notebooks/data_table.ipynb>data table notebook</a>'\n",
              "          + ' to learn more about interactive tables.';\n",
              "        element.innerHTML = '';\n",
              "        dataTable['output_type'] = 'display_data';\n",
              "        await google.colab.output.renderOutput(dataTable, element);\n",
              "        const docLink = document.createElement('div');\n",
              "        docLink.innerHTML = docLinkHtml;\n",
              "        element.appendChild(docLink);\n",
              "      }\n",
              "    </script>\n",
              "  </div>\n",
              "\n",
              "\n",
              "<div id=\"df-7c2c03e7-de6d-4203-899c-23993f705d08\">\n",
              "  <button class=\"colab-df-quickchart\" onclick=\"quickchart('df-7c2c03e7-de6d-4203-899c-23993f705d08')\"\n",
              "            title=\"Suggest charts\"\n",
              "            style=\"display:none;\">\n",
              "\n",
              "<svg xmlns=\"http://www.w3.org/2000/svg\" height=\"24px\"viewBox=\"0 0 24 24\"\n",
              "     width=\"24px\">\n",
              "    <g>\n",
              "        <path d=\"M19 3H5c-1.1 0-2 .9-2 2v14c0 1.1.9 2 2 2h14c1.1 0 2-.9 2-2V5c0-1.1-.9-2-2-2zM9 17H7v-7h2v7zm4 0h-2V7h2v10zm4 0h-2v-4h2v4z\"/>\n",
              "    </g>\n",
              "</svg>\n",
              "  </button>\n",
              "\n",
              "<style>\n",
              "  .colab-df-quickchart {\n",
              "      --bg-color: #E8F0FE;\n",
              "      --fill-color: #1967D2;\n",
              "      --hover-bg-color: #E2EBFA;\n",
              "      --hover-fill-color: #174EA6;\n",
              "      --disabled-fill-color: #AAA;\n",
              "      --disabled-bg-color: #DDD;\n",
              "  }\n",
              "\n",
              "  [theme=dark] .colab-df-quickchart {\n",
              "      --bg-color: #3B4455;\n",
              "      --fill-color: #D2E3FC;\n",
              "      --hover-bg-color: #434B5C;\n",
              "      --hover-fill-color: #FFFFFF;\n",
              "      --disabled-bg-color: #3B4455;\n",
              "      --disabled-fill-color: #666;\n",
              "  }\n",
              "\n",
              "  .colab-df-quickchart {\n",
              "    background-color: var(--bg-color);\n",
              "    border: none;\n",
              "    border-radius: 50%;\n",
              "    cursor: pointer;\n",
              "    display: none;\n",
              "    fill: var(--fill-color);\n",
              "    height: 32px;\n",
              "    padding: 0;\n",
              "    width: 32px;\n",
              "  }\n",
              "\n",
              "  .colab-df-quickchart:hover {\n",
              "    background-color: var(--hover-bg-color);\n",
              "    box-shadow: 0 1px 2px rgba(60, 64, 67, 0.3), 0 1px 3px 1px rgba(60, 64, 67, 0.15);\n",
              "    fill: var(--button-hover-fill-color);\n",
              "  }\n",
              "\n",
              "  .colab-df-quickchart-complete:disabled,\n",
              "  .colab-df-quickchart-complete:disabled:hover {\n",
              "    background-color: var(--disabled-bg-color);\n",
              "    fill: var(--disabled-fill-color);\n",
              "    box-shadow: none;\n",
              "  }\n",
              "\n",
              "  .colab-df-spinner {\n",
              "    border: 2px solid var(--fill-color);\n",
              "    border-color: transparent;\n",
              "    border-bottom-color: var(--fill-color);\n",
              "    animation:\n",
              "      spin 1s steps(1) infinite;\n",
              "  }\n",
              "\n",
              "  @keyframes spin {\n",
              "    0% {\n",
              "      border-color: transparent;\n",
              "      border-bottom-color: var(--fill-color);\n",
              "      border-left-color: var(--fill-color);\n",
              "    }\n",
              "    20% {\n",
              "      border-color: transparent;\n",
              "      border-left-color: var(--fill-color);\n",
              "      border-top-color: var(--fill-color);\n",
              "    }\n",
              "    30% {\n",
              "      border-color: transparent;\n",
              "      border-left-color: var(--fill-color);\n",
              "      border-top-color: var(--fill-color);\n",
              "      border-right-color: var(--fill-color);\n",
              "    }\n",
              "    40% {\n",
              "      border-color: transparent;\n",
              "      border-right-color: var(--fill-color);\n",
              "      border-top-color: var(--fill-color);\n",
              "    }\n",
              "    60% {\n",
              "      border-color: transparent;\n",
              "      border-right-color: var(--fill-color);\n",
              "    }\n",
              "    80% {\n",
              "      border-color: transparent;\n",
              "      border-right-color: var(--fill-color);\n",
              "      border-bottom-color: var(--fill-color);\n",
              "    }\n",
              "    90% {\n",
              "      border-color: transparent;\n",
              "      border-bottom-color: var(--fill-color);\n",
              "    }\n",
              "  }\n",
              "</style>\n",
              "\n",
              "  <script>\n",
              "    async function quickchart(key) {\n",
              "      const quickchartButtonEl =\n",
              "        document.querySelector('#' + key + ' button');\n",
              "      quickchartButtonEl.disabled = true;  // To prevent multiple clicks.\n",
              "      quickchartButtonEl.classList.add('colab-df-spinner');\n",
              "      try {\n",
              "        const charts = await google.colab.kernel.invokeFunction(\n",
              "            'suggestCharts', [key], {});\n",
              "      } catch (error) {\n",
              "        console.error('Error during call to suggestCharts:', error);\n",
              "      }\n",
              "      quickchartButtonEl.classList.remove('colab-df-spinner');\n",
              "      quickchartButtonEl.classList.add('colab-df-quickchart-complete');\n",
              "    }\n",
              "    (() => {\n",
              "      let quickchartButtonEl =\n",
              "        document.querySelector('#df-7c2c03e7-de6d-4203-899c-23993f705d08 button');\n",
              "      quickchartButtonEl.style.display =\n",
              "        google.colab.kernel.accessAllowed ? 'block' : 'none';\n",
              "    })();\n",
              "  </script>\n",
              "</div>\n",
              "\n",
              "    </div>\n",
              "  </div>\n"
            ],
            "application/vnd.google.colaboratory.intrinsic+json": {
              "type": "dataframe",
              "summary": "{\n  \"name\": \"df\",\n  \"rows\": 8,\n  \"fields\": [\n    {\n      \"column\": \"category\",\n      \"properties\": {\n        \"dtype\": \"number\",\n        \"std\": 1767.313504743524,\n        \"min\": -1.0,\n        \"max\": 4999.0,\n        \"num_unique_values\": 6,\n        \"samples\": [\n          4999.0,\n          0.20644128825765154,\n          1.0\n        ],\n        \"semantic_type\": \"\",\n        \"description\": \"\"\n      }\n    }\n  ]\n}"
            }
          },
          "metadata": {},
          "execution_count": 31
        }
      ],
      "source": [
        "df.describe()"
      ]
    },
    {
      "cell_type": "markdown",
      "id": "eefc8b74",
      "metadata": {
        "papermill": {
          "duration": 0.012915,
          "end_time": "2024-09-07T09:58:14.598899",
          "exception": false,
          "start_time": "2024-09-07T09:58:14.585984",
          "status": "completed"
        },
        "tags": [],
        "id": "eefc8b74"
      },
      "source": [
        "## Preprocess and make tokenize into the text"
      ]
    },
    {
      "cell_type": "code",
      "execution_count": 36,
      "id": "9f43a014",
      "metadata": {
        "execution": {
          "iopub.execute_input": "2024-09-07T09:58:14.626154Z",
          "iopub.status.busy": "2024-09-07T09:58:14.625861Z",
          "iopub.status.idle": "2024-09-07T09:58:16.292262Z",
          "shell.execute_reply": "2024-09-07T09:58:16.291230Z"
        },
        "papermill": {
          "duration": 1.683364,
          "end_time": "2024-09-07T09:58:16.295182",
          "exception": false,
          "start_time": "2024-09-07T09:58:14.611818",
          "status": "completed"
        },
        "tags": [],
        "colab": {
          "base_uri": "https://localhost:8080/"
        },
        "id": "9f43a014",
        "outputId": "042f2234-cde4-4a9f-ead7-ecfd891645b6"
      },
      "outputs": [
        {
          "output_type": "stream",
          "name": "stdout",
          "text": [
            "Requirement already satisfied: nltk in /usr/local/lib/python3.10/dist-packages (3.8.1)\n",
            "Requirement already satisfied: click in /usr/local/lib/python3.10/dist-packages (from nltk) (8.1.7)\n",
            "Requirement already satisfied: joblib in /usr/local/lib/python3.10/dist-packages (from nltk) (1.4.2)\n",
            "Requirement already satisfied: regex>=2021.8.3 in /usr/local/lib/python3.10/dist-packages (from nltk) (2024.9.11)\n",
            "Requirement already satisfied: tqdm in /usr/local/lib/python3.10/dist-packages (from nltk) (4.66.5)\n"
          ]
        }
      ],
      "source": [
        "!pip install nltk\n",
        "from nltk.corpus import stopwords\n",
        "import re"
      ]
    },
    {
      "source": [
        "!pip install nltk\n",
        "from nltk.corpus import stopwords\n",
        "import re\n",
        "import nltk # make sure to import nltk\n",
        "\n",
        "nltk.download('stopwords') # Download the stopwords resource\n",
        "\n",
        "def func(x):\n",
        "    x = re.sub(\"[^a-zA-Z]\",\" \",x)\n",
        "    x = x.split()\n",
        "    x = [i.strip() for i in x if i not in set(stopwords.words('english'))]\n",
        "    return \" \".join(x)"
      ],
      "cell_type": "code",
      "metadata": {
        "colab": {
          "base_uri": "https://localhost:8080/"
        },
        "id": "yIecVBa1cF5R",
        "outputId": "8aa5ec61-a5f8-417b-be23-e5712db77fd1"
      },
      "id": "yIecVBa1cF5R",
      "execution_count": 42,
      "outputs": [
        {
          "output_type": "stream",
          "name": "stdout",
          "text": [
            "Requirement already satisfied: nltk in /usr/local/lib/python3.10/dist-packages (3.8.1)\n",
            "Requirement already satisfied: click in /usr/local/lib/python3.10/dist-packages (from nltk) (8.1.7)\n",
            "Requirement already satisfied: joblib in /usr/local/lib/python3.10/dist-packages (from nltk) (1.4.2)\n",
            "Requirement already satisfied: regex>=2021.8.3 in /usr/local/lib/python3.10/dist-packages (from nltk) (2024.9.11)\n",
            "Requirement already satisfied: tqdm in /usr/local/lib/python3.10/dist-packages (from nltk) (4.66.5)\n"
          ]
        },
        {
          "output_type": "stream",
          "name": "stderr",
          "text": [
            "[nltk_data] Downloading package stopwords to /root/nltk_data...\n",
            "[nltk_data]   Unzipping corpora/stopwords.zip.\n"
          ]
        }
      ]
    },
    {
      "cell_type": "code",
      "source": [
        "df['clean_text'] = df['clean_text'].astype('str')\n",
        "df.clean_text = df.clean_text.apply(func)"
      ],
      "metadata": {
        "id": "1WtBTDAHcaJL"
      },
      "id": "1WtBTDAHcaJL",
      "execution_count": 43,
      "outputs": []
    },
    {
      "cell_type": "code",
      "execution_count": 44,
      "id": "b1d8fdf8",
      "metadata": {
        "execution": {
          "iopub.execute_input": "2024-09-07T09:58:28.902433Z",
          "iopub.status.busy": "2024-09-07T09:58:28.901667Z",
          "iopub.status.idle": "2024-09-07T09:58:28.906607Z",
          "shell.execute_reply": "2024-09-07T09:58:28.905748Z"
        },
        "papermill": {
          "duration": 0.020837,
          "end_time": "2024-09-07T09:58:28.908435",
          "exception": false,
          "start_time": "2024-09-07T09:58:28.887598",
          "status": "completed"
        },
        "tags": [],
        "id": "b1d8fdf8"
      },
      "outputs": [],
      "source": [
        "df.category = df.category.astype('int')"
      ]
    },
    {
      "cell_type": "code",
      "execution_count": 46,
      "id": "8540a98e",
      "metadata": {
        "execution": {
          "iopub.execute_input": "2024-09-07T09:58:28.935737Z",
          "iopub.status.busy": "2024-09-07T09:58:28.935082Z",
          "iopub.status.idle": "2024-09-07T09:58:28.944566Z",
          "shell.execute_reply": "2024-09-07T09:58:28.943659Z"
        },
        "papermill": {
          "duration": 0.025218,
          "end_time": "2024-09-07T09:58:28.946474",
          "exception": false,
          "start_time": "2024-09-07T09:58:28.921256",
          "status": "completed"
        },
        "tags": [],
        "colab": {
          "base_uri": "https://localhost:8080/",
          "height": 206
        },
        "id": "8540a98e",
        "outputId": "e8b088c9-2dbf-4d4a-d2bf-0e6e4ba5ccd3"
      },
      "outputs": [
        {
          "output_type": "execute_result",
          "data": {
            "text/plain": [
              "                                          clean_text  category\n",
              "0  modi promised minimum government maximum gover...        -1\n",
              "1             talk nonsense continue drama vote modi         0\n",
              "2  say vote modi welcome bjp told rahul main camp...         1\n",
              "3  asking supporters prefix chowkidar names modi ...         1\n",
              "4  answer among powerful world leader today trump...         1"
            ],
            "text/html": [
              "\n",
              "  <div id=\"df-fc18d70b-e915-4e27-91b5-2dafc483db1f\" class=\"colab-df-container\">\n",
              "    <div>\n",
              "<style scoped>\n",
              "    .dataframe tbody tr th:only-of-type {\n",
              "        vertical-align: middle;\n",
              "    }\n",
              "\n",
              "    .dataframe tbody tr th {\n",
              "        vertical-align: top;\n",
              "    }\n",
              "\n",
              "    .dataframe thead th {\n",
              "        text-align: right;\n",
              "    }\n",
              "</style>\n",
              "<table border=\"1\" class=\"dataframe\">\n",
              "  <thead>\n",
              "    <tr style=\"text-align: right;\">\n",
              "      <th></th>\n",
              "      <th>clean_text</th>\n",
              "      <th>category</th>\n",
              "    </tr>\n",
              "  </thead>\n",
              "  <tbody>\n",
              "    <tr>\n",
              "      <th>0</th>\n",
              "      <td>modi promised minimum government maximum gover...</td>\n",
              "      <td>-1</td>\n",
              "    </tr>\n",
              "    <tr>\n",
              "      <th>1</th>\n",
              "      <td>talk nonsense continue drama vote modi</td>\n",
              "      <td>0</td>\n",
              "    </tr>\n",
              "    <tr>\n",
              "      <th>2</th>\n",
              "      <td>say vote modi welcome bjp told rahul main camp...</td>\n",
              "      <td>1</td>\n",
              "    </tr>\n",
              "    <tr>\n",
              "      <th>3</th>\n",
              "      <td>asking supporters prefix chowkidar names modi ...</td>\n",
              "      <td>1</td>\n",
              "    </tr>\n",
              "    <tr>\n",
              "      <th>4</th>\n",
              "      <td>answer among powerful world leader today trump...</td>\n",
              "      <td>1</td>\n",
              "    </tr>\n",
              "  </tbody>\n",
              "</table>\n",
              "</div>\n",
              "    <div class=\"colab-df-buttons\">\n",
              "\n",
              "  <div class=\"colab-df-container\">\n",
              "    <button class=\"colab-df-convert\" onclick=\"convertToInteractive('df-fc18d70b-e915-4e27-91b5-2dafc483db1f')\"\n",
              "            title=\"Convert this dataframe to an interactive table.\"\n",
              "            style=\"display:none;\">\n",
              "\n",
              "  <svg xmlns=\"http://www.w3.org/2000/svg\" height=\"24px\" viewBox=\"0 -960 960 960\">\n",
              "    <path d=\"M120-120v-720h720v720H120Zm60-500h600v-160H180v160Zm220 220h160v-160H400v160Zm0 220h160v-160H400v160ZM180-400h160v-160H180v160Zm440 0h160v-160H620v160ZM180-180h160v-160H180v160Zm440 0h160v-160H620v160Z\"/>\n",
              "  </svg>\n",
              "    </button>\n",
              "\n",
              "  <style>\n",
              "    .colab-df-container {\n",
              "      display:flex;\n",
              "      gap: 12px;\n",
              "    }\n",
              "\n",
              "    .colab-df-convert {\n",
              "      background-color: #E8F0FE;\n",
              "      border: none;\n",
              "      border-radius: 50%;\n",
              "      cursor: pointer;\n",
              "      display: none;\n",
              "      fill: #1967D2;\n",
              "      height: 32px;\n",
              "      padding: 0 0 0 0;\n",
              "      width: 32px;\n",
              "    }\n",
              "\n",
              "    .colab-df-convert:hover {\n",
              "      background-color: #E2EBFA;\n",
              "      box-shadow: 0px 1px 2px rgba(60, 64, 67, 0.3), 0px 1px 3px 1px rgba(60, 64, 67, 0.15);\n",
              "      fill: #174EA6;\n",
              "    }\n",
              "\n",
              "    .colab-df-buttons div {\n",
              "      margin-bottom: 4px;\n",
              "    }\n",
              "\n",
              "    [theme=dark] .colab-df-convert {\n",
              "      background-color: #3B4455;\n",
              "      fill: #D2E3FC;\n",
              "    }\n",
              "\n",
              "    [theme=dark] .colab-df-convert:hover {\n",
              "      background-color: #434B5C;\n",
              "      box-shadow: 0px 1px 3px 1px rgba(0, 0, 0, 0.15);\n",
              "      filter: drop-shadow(0px 1px 2px rgba(0, 0, 0, 0.3));\n",
              "      fill: #FFFFFF;\n",
              "    }\n",
              "  </style>\n",
              "\n",
              "    <script>\n",
              "      const buttonEl =\n",
              "        document.querySelector('#df-fc18d70b-e915-4e27-91b5-2dafc483db1f button.colab-df-convert');\n",
              "      buttonEl.style.display =\n",
              "        google.colab.kernel.accessAllowed ? 'block' : 'none';\n",
              "\n",
              "      async function convertToInteractive(key) {\n",
              "        const element = document.querySelector('#df-fc18d70b-e915-4e27-91b5-2dafc483db1f');\n",
              "        const dataTable =\n",
              "          await google.colab.kernel.invokeFunction('convertToInteractive',\n",
              "                                                    [key], {});\n",
              "        if (!dataTable) return;\n",
              "\n",
              "        const docLinkHtml = 'Like what you see? Visit the ' +\n",
              "          '<a target=\"_blank\" href=https://colab.research.google.com/notebooks/data_table.ipynb>data table notebook</a>'\n",
              "          + ' to learn more about interactive tables.';\n",
              "        element.innerHTML = '';\n",
              "        dataTable['output_type'] = 'display_data';\n",
              "        await google.colab.output.renderOutput(dataTable, element);\n",
              "        const docLink = document.createElement('div');\n",
              "        docLink.innerHTML = docLinkHtml;\n",
              "        element.appendChild(docLink);\n",
              "      }\n",
              "    </script>\n",
              "  </div>\n",
              "\n",
              "\n",
              "<div id=\"df-f0914d1a-8d9b-4b92-ae5b-cea72a835fad\">\n",
              "  <button class=\"colab-df-quickchart\" onclick=\"quickchart('df-f0914d1a-8d9b-4b92-ae5b-cea72a835fad')\"\n",
              "            title=\"Suggest charts\"\n",
              "            style=\"display:none;\">\n",
              "\n",
              "<svg xmlns=\"http://www.w3.org/2000/svg\" height=\"24px\"viewBox=\"0 0 24 24\"\n",
              "     width=\"24px\">\n",
              "    <g>\n",
              "        <path d=\"M19 3H5c-1.1 0-2 .9-2 2v14c0 1.1.9 2 2 2h14c1.1 0 2-.9 2-2V5c0-1.1-.9-2-2-2zM9 17H7v-7h2v7zm4 0h-2V7h2v10zm4 0h-2v-4h2v4z\"/>\n",
              "    </g>\n",
              "</svg>\n",
              "  </button>\n",
              "\n",
              "<style>\n",
              "  .colab-df-quickchart {\n",
              "      --bg-color: #E8F0FE;\n",
              "      --fill-color: #1967D2;\n",
              "      --hover-bg-color: #E2EBFA;\n",
              "      --hover-fill-color: #174EA6;\n",
              "      --disabled-fill-color: #AAA;\n",
              "      --disabled-bg-color: #DDD;\n",
              "  }\n",
              "\n",
              "  [theme=dark] .colab-df-quickchart {\n",
              "      --bg-color: #3B4455;\n",
              "      --fill-color: #D2E3FC;\n",
              "      --hover-bg-color: #434B5C;\n",
              "      --hover-fill-color: #FFFFFF;\n",
              "      --disabled-bg-color: #3B4455;\n",
              "      --disabled-fill-color: #666;\n",
              "  }\n",
              "\n",
              "  .colab-df-quickchart {\n",
              "    background-color: var(--bg-color);\n",
              "    border: none;\n",
              "    border-radius: 50%;\n",
              "    cursor: pointer;\n",
              "    display: none;\n",
              "    fill: var(--fill-color);\n",
              "    height: 32px;\n",
              "    padding: 0;\n",
              "    width: 32px;\n",
              "  }\n",
              "\n",
              "  .colab-df-quickchart:hover {\n",
              "    background-color: var(--hover-bg-color);\n",
              "    box-shadow: 0 1px 2px rgba(60, 64, 67, 0.3), 0 1px 3px 1px rgba(60, 64, 67, 0.15);\n",
              "    fill: var(--button-hover-fill-color);\n",
              "  }\n",
              "\n",
              "  .colab-df-quickchart-complete:disabled,\n",
              "  .colab-df-quickchart-complete:disabled:hover {\n",
              "    background-color: var(--disabled-bg-color);\n",
              "    fill: var(--disabled-fill-color);\n",
              "    box-shadow: none;\n",
              "  }\n",
              "\n",
              "  .colab-df-spinner {\n",
              "    border: 2px solid var(--fill-color);\n",
              "    border-color: transparent;\n",
              "    border-bottom-color: var(--fill-color);\n",
              "    animation:\n",
              "      spin 1s steps(1) infinite;\n",
              "  }\n",
              "\n",
              "  @keyframes spin {\n",
              "    0% {\n",
              "      border-color: transparent;\n",
              "      border-bottom-color: var(--fill-color);\n",
              "      border-left-color: var(--fill-color);\n",
              "    }\n",
              "    20% {\n",
              "      border-color: transparent;\n",
              "      border-left-color: var(--fill-color);\n",
              "      border-top-color: var(--fill-color);\n",
              "    }\n",
              "    30% {\n",
              "      border-color: transparent;\n",
              "      border-left-color: var(--fill-color);\n",
              "      border-top-color: var(--fill-color);\n",
              "      border-right-color: var(--fill-color);\n",
              "    }\n",
              "    40% {\n",
              "      border-color: transparent;\n",
              "      border-right-color: var(--fill-color);\n",
              "      border-top-color: var(--fill-color);\n",
              "    }\n",
              "    60% {\n",
              "      border-color: transparent;\n",
              "      border-right-color: var(--fill-color);\n",
              "    }\n",
              "    80% {\n",
              "      border-color: transparent;\n",
              "      border-right-color: var(--fill-color);\n",
              "      border-bottom-color: var(--fill-color);\n",
              "    }\n",
              "    90% {\n",
              "      border-color: transparent;\n",
              "      border-bottom-color: var(--fill-color);\n",
              "    }\n",
              "  }\n",
              "</style>\n",
              "\n",
              "  <script>\n",
              "    async function quickchart(key) {\n",
              "      const quickchartButtonEl =\n",
              "        document.querySelector('#' + key + ' button');\n",
              "      quickchartButtonEl.disabled = true;  // To prevent multiple clicks.\n",
              "      quickchartButtonEl.classList.add('colab-df-spinner');\n",
              "      try {\n",
              "        const charts = await google.colab.kernel.invokeFunction(\n",
              "            'suggestCharts', [key], {});\n",
              "      } catch (error) {\n",
              "        console.error('Error during call to suggestCharts:', error);\n",
              "      }\n",
              "      quickchartButtonEl.classList.remove('colab-df-spinner');\n",
              "      quickchartButtonEl.classList.add('colab-df-quickchart-complete');\n",
              "    }\n",
              "    (() => {\n",
              "      let quickchartButtonEl =\n",
              "        document.querySelector('#df-f0914d1a-8d9b-4b92-ae5b-cea72a835fad button');\n",
              "      quickchartButtonEl.style.display =\n",
              "        google.colab.kernel.accessAllowed ? 'block' : 'none';\n",
              "    })();\n",
              "  </script>\n",
              "</div>\n",
              "\n",
              "    </div>\n",
              "  </div>\n"
            ],
            "application/vnd.google.colaboratory.intrinsic+json": {
              "type": "dataframe",
              "variable_name": "df",
              "summary": "{\n  \"name\": \"df\",\n  \"rows\": 4999,\n  \"fields\": [\n    {\n      \"column\": \"clean_text\",\n      \"properties\": {\n        \"dtype\": \"string\",\n        \"num_unique_values\": 4905,\n        \"samples\": [\n          \"middle class bhaiyonbetter scare relatives voting modivarana dena double tax\",\n          \"make country joke hamara shri narendra modi\",\n          \"bjp lacks boldness concerns didnt bother released terrorist jail within hours assuming office\"\n        ],\n        \"semantic_type\": \"\",\n        \"description\": \"\"\n      }\n    },\n    {\n      \"column\": \"category\",\n      \"properties\": {\n        \"dtype\": \"number\",\n        \"std\": 0,\n        \"min\": -1,\n        \"max\": 1,\n        \"num_unique_values\": 3,\n        \"samples\": [\n          -1,\n          0,\n          1\n        ],\n        \"semantic_type\": \"\",\n        \"description\": \"\"\n      }\n    }\n  ]\n}"
            }
          },
          "metadata": {},
          "execution_count": 46
        }
      ],
      "source": [
        "df.head()"
      ]
    },
    {
      "cell_type": "markdown",
      "id": "592cfb24",
      "metadata": {
        "papermill": {
          "duration": 0.012889,
          "end_time": "2024-09-07T09:58:28.972468",
          "exception": false,
          "start_time": "2024-09-07T09:58:28.959579",
          "status": "completed"
        },
        "tags": [],
        "id": "592cfb24"
      },
      "source": [
        "## Build the Vocabulary from the dataset"
      ]
    },
    {
      "cell_type": "code",
      "execution_count": 47,
      "id": "7dff8339",
      "metadata": {
        "execution": {
          "iopub.execute_input": "2024-09-07T09:58:29.001746Z",
          "iopub.status.busy": "2024-09-07T09:58:29.001070Z",
          "iopub.status.idle": "2024-09-07T09:58:29.004955Z",
          "shell.execute_reply": "2024-09-07T09:58:29.004143Z"
        },
        "papermill": {
          "duration": 0.020113,
          "end_time": "2024-09-07T09:58:29.006794",
          "exception": false,
          "start_time": "2024-09-07T09:58:28.986681",
          "status": "completed"
        },
        "tags": [],
        "id": "7dff8339"
      },
      "outputs": [],
      "source": [
        "from collections import Counter"
      ]
    },
    {
      "cell_type": "code",
      "execution_count": 48,
      "id": "83a1c586",
      "metadata": {
        "execution": {
          "iopub.execute_input": "2024-09-07T09:58:29.034002Z",
          "iopub.status.busy": "2024-09-07T09:58:29.033679Z",
          "iopub.status.idle": "2024-09-07T09:58:29.047587Z",
          "shell.execute_reply": "2024-09-07T09:58:29.046779Z"
        },
        "papermill": {
          "duration": 0.02953,
          "end_time": "2024-09-07T09:58:29.049384",
          "exception": false,
          "start_time": "2024-09-07T09:58:29.019854",
          "status": "completed"
        },
        "tags": [],
        "id": "83a1c586"
      },
      "outputs": [],
      "source": [
        "vals = df.clean_text.to_list()\n",
        "texts = [i.split(\" \") for i in vals]"
      ]
    },
    {
      "cell_type": "code",
      "execution_count": 49,
      "id": "1e6e3ba5",
      "metadata": {
        "execution": {
          "iopub.execute_input": "2024-09-07T09:58:29.076546Z",
          "iopub.status.busy": "2024-09-07T09:58:29.076250Z",
          "iopub.status.idle": "2024-09-07T09:58:29.081283Z",
          "shell.execute_reply": "2024-09-07T09:58:29.080467Z"
        },
        "papermill": {
          "duration": 0.020712,
          "end_time": "2024-09-07T09:58:29.083086",
          "exception": false,
          "start_time": "2024-09-07T09:58:29.062374",
          "status": "completed"
        },
        "tags": [],
        "id": "1e6e3ba5"
      },
      "outputs": [],
      "source": [
        "def build_vocab(tokenized_data):\n",
        "    all_words = [word for sentence in tokenized_data for word in sentence]\n",
        "    word_counts = Counter(all_words)\n",
        "    vocab = {'<PAD>': 0, '<UNK>': 1}\n",
        "    vocab.update({word: idx + 2 for idx, (word, _) in enumerate(word_counts.items())})\n",
        "    return vocab"
      ]
    },
    {
      "cell_type": "code",
      "execution_count": 50,
      "id": "0fb3a6be",
      "metadata": {
        "execution": {
          "iopub.execute_input": "2024-09-07T09:58:29.110910Z",
          "iopub.status.busy": "2024-09-07T09:58:29.110343Z",
          "iopub.status.idle": "2024-09-07T09:58:29.130345Z",
          "shell.execute_reply": "2024-09-07T09:58:29.129510Z"
        },
        "papermill": {
          "duration": 0.035715,
          "end_time": "2024-09-07T09:58:29.132191",
          "exception": false,
          "start_time": "2024-09-07T09:58:29.096476",
          "status": "completed"
        },
        "tags": [],
        "id": "0fb3a6be"
      },
      "outputs": [],
      "source": [
        "vocab = build_vocab(texts)"
      ]
    },
    {
      "cell_type": "markdown",
      "id": "337b22fe",
      "metadata": {
        "papermill": {
          "duration": 0.012879,
          "end_time": "2024-09-07T09:58:29.158254",
          "exception": false,
          "start_time": "2024-09-07T09:58:29.145375",
          "status": "completed"
        },
        "tags": [],
        "id": "337b22fe"
      },
      "source": [
        "## Make the text into the encoded format"
      ]
    },
    {
      "cell_type": "code",
      "execution_count": 51,
      "id": "d5bab16a",
      "metadata": {
        "execution": {
          "iopub.execute_input": "2024-09-07T09:58:29.185615Z",
          "iopub.status.busy": "2024-09-07T09:58:29.185316Z",
          "iopub.status.idle": "2024-09-07T09:58:29.328904Z",
          "shell.execute_reply": "2024-09-07T09:58:29.327783Z"
        },
        "papermill": {
          "duration": 0.15974,
          "end_time": "2024-09-07T09:58:29.331074",
          "exception": false,
          "start_time": "2024-09-07T09:58:29.171334",
          "status": "completed"
        },
        "tags": [],
        "colab": {
          "base_uri": "https://localhost:8080/"
        },
        "id": "d5bab16a",
        "outputId": "7afcc0bd-3fa9-42a6-933d-8e5c3c1eb0af"
      },
      "outputs": [
        {
          "output_type": "stream",
          "name": "stdout",
          "text": [
            "Encoded data: [2, 3, 4, 5, 6, 7, 8, 9, 10, 11, 12, 13, 14, 15, 16, 17, 13, 18, 19, 20, 21]\n"
          ]
        }
      ],
      "source": [
        "def encode_text(tokenized_data, vocab):\n",
        "    encoded_data = []\n",
        "    for sentence in tokenized_data:\n",
        "        encoded_sentence = [vocab.get(word, vocab['<UNK>']) for word in sentence]\n",
        "        encoded_data.append(encoded_sentence)\n",
        "    return encoded_data\n",
        "\n",
        "# Encode the tokenized sentences\n",
        "encoded_data = encode_text(texts, vocab)\n",
        "print(\"Encoded data:\", encoded_data[0])\n"
      ]
    },
    {
      "cell_type": "markdown",
      "id": "8d7460fa",
      "metadata": {
        "papermill": {
          "duration": 0.012941,
          "end_time": "2024-09-07T09:58:29.357469",
          "exception": false,
          "start_time": "2024-09-07T09:58:29.344528",
          "status": "completed"
        },
        "tags": [],
        "id": "8d7460fa"
      },
      "source": [
        "## Make padding the data"
      ]
    },
    {
      "cell_type": "code",
      "execution_count": 52,
      "id": "a5467668",
      "metadata": {
        "execution": {
          "iopub.execute_input": "2024-09-07T09:58:29.384902Z",
          "iopub.status.busy": "2024-09-07T09:58:29.384522Z",
          "iopub.status.idle": "2024-09-07T09:58:29.507769Z",
          "shell.execute_reply": "2024-09-07T09:58:29.506884Z"
        },
        "papermill": {
          "duration": 0.139636,
          "end_time": "2024-09-07T09:58:29.510204",
          "exception": false,
          "start_time": "2024-09-07T09:58:29.370568",
          "status": "completed"
        },
        "tags": [],
        "id": "a5467668"
      },
      "outputs": [],
      "source": [
        "import torch\n",
        "from torch.nn.utils.rnn import pad_sequence\n",
        "\n",
        "sequence_lengths = [len(seq) for seq in encoded_data]\n",
        "# print(\"Original sequence lengths:\", sequence_lengths)\n",
        "encoded_tensors = [torch.tensor(seq) for seq in encoded_data]\n",
        "padded_data = pad_sequence(encoded_tensors, batch_first=True, padding_value=vocab['<PAD>'])\n",
        "# print(\"Padded data:\\n\", padded_data)"
      ]
    },
    {
      "cell_type": "markdown",
      "id": "67d0c790",
      "metadata": {
        "papermill": {
          "duration": 0.013599,
          "end_time": "2024-09-07T09:58:29.537576",
          "exception": false,
          "start_time": "2024-09-07T09:58:29.523977",
          "status": "completed"
        },
        "tags": [],
        "id": "67d0c790"
      },
      "source": [
        "## Take away the target"
      ]
    },
    {
      "cell_type": "code",
      "execution_count": 53,
      "id": "429569ab",
      "metadata": {
        "execution": {
          "iopub.execute_input": "2024-09-07T09:58:29.567013Z",
          "iopub.status.busy": "2024-09-07T09:58:29.566368Z",
          "iopub.status.idle": "2024-09-07T09:58:29.571164Z",
          "shell.execute_reply": "2024-09-07T09:58:29.570299Z"
        },
        "papermill": {
          "duration": 0.021811,
          "end_time": "2024-09-07T09:58:29.573307",
          "exception": false,
          "start_time": "2024-09-07T09:58:29.551496",
          "status": "completed"
        },
        "tags": [],
        "id": "429569ab"
      },
      "outputs": [],
      "source": [
        "target = df.category"
      ]
    },
    {
      "cell_type": "markdown",
      "id": "531ffacc",
      "metadata": {
        "papermill": {
          "duration": 0.013209,
          "end_time": "2024-09-07T09:58:29.602053",
          "exception": false,
          "start_time": "2024-09-07T09:58:29.588844",
          "status": "completed"
        },
        "tags": [],
        "id": "531ffacc"
      },
      "source": [
        "## Build the sentiment analysis model"
      ]
    },
    {
      "cell_type": "code",
      "execution_count": 54,
      "id": "bbb6f36c",
      "metadata": {
        "execution": {
          "iopub.execute_input": "2024-09-07T09:58:29.631622Z",
          "iopub.status.busy": "2024-09-07T09:58:29.630690Z",
          "iopub.status.idle": "2024-09-07T09:58:29.639344Z",
          "shell.execute_reply": "2024-09-07T09:58:29.638419Z"
        },
        "papermill": {
          "duration": 0.025452,
          "end_time": "2024-09-07T09:58:29.641328",
          "exception": false,
          "start_time": "2024-09-07T09:58:29.615876",
          "status": "completed"
        },
        "tags": [],
        "id": "bbb6f36c"
      },
      "outputs": [],
      "source": [
        "class LSTMSentimentModel(nn.Module):\n",
        "    def __init__(self,vocab_size,embed_dim,hid_dim,out_dim):\n",
        "        super(LSTMSentimentModel,self).__init__()\n",
        "        self.embedding = nn.Embedding(vocab_size,embed_dim,padding_idx=vocab['<PAD>'])\n",
        "        self.lstm = nn.LSTM(embed_dim,hid_dim,batch_first=True)\n",
        "        self.fc = nn.Linear(hid_dim,out_dim)\n",
        "\n",
        "    def forward(self,text,lengths):\n",
        "        embedded = self.embedding(text)\n",
        "        packed_embedded = nn.utils.rnn.pack_padded_sequence(embedded,lengths,batch_first=True,enforce_sorted=False)\n",
        "        packed_output,(hidden,cell) = self.lstm(packed_embedded)\n",
        "        hidden = hidden[-1]\n",
        "        output = self.fc(hidden)\n",
        "        return output"
      ]
    },
    {
      "cell_type": "code",
      "execution_count": 55,
      "id": "314a27a2",
      "metadata": {
        "execution": {
          "iopub.execute_input": "2024-09-07T09:58:29.717711Z",
          "iopub.status.busy": "2024-09-07T09:58:29.717066Z",
          "iopub.status.idle": "2024-09-07T09:58:29.723270Z",
          "shell.execute_reply": "2024-09-07T09:58:29.722379Z"
        },
        "papermill": {
          "duration": 0.070415,
          "end_time": "2024-09-07T09:58:29.725197",
          "exception": false,
          "start_time": "2024-09-07T09:58:29.654782",
          "status": "completed"
        },
        "tags": [],
        "id": "314a27a2"
      },
      "outputs": [],
      "source": [
        "labels = torch.tensor(target,dtype=torch.float)"
      ]
    },
    {
      "cell_type": "markdown",
      "id": "c6c30ec1",
      "metadata": {
        "papermill": {
          "duration": 0.013153,
          "end_time": "2024-09-07T09:58:29.751833",
          "exception": false,
          "start_time": "2024-09-07T09:58:29.738680",
          "status": "completed"
        },
        "tags": [],
        "id": "c6c30ec1"
      },
      "source": [
        "## Make the dataset from the sequence lengths and make it into the dataset"
      ]
    },
    {
      "cell_type": "code",
      "execution_count": 56,
      "id": "e3118262",
      "metadata": {
        "execution": {
          "iopub.execute_input": "2024-09-07T09:58:29.780822Z",
          "iopub.status.busy": "2024-09-07T09:58:29.779964Z",
          "iopub.status.idle": "2024-09-07T09:58:29.787468Z",
          "shell.execute_reply": "2024-09-07T09:58:29.786578Z"
        },
        "papermill": {
          "duration": 0.024172,
          "end_time": "2024-09-07T09:58:29.789497",
          "exception": false,
          "start_time": "2024-09-07T09:58:29.765325",
          "status": "completed"
        },
        "tags": [],
        "id": "e3118262"
      },
      "outputs": [],
      "source": [
        "lengths_tensor = torch.tensor(sequence_lengths)\n",
        "dataset = TensorDataset(padded_data,lengths_tensor,labels)"
      ]
    },
    {
      "cell_type": "code",
      "execution_count": 57,
      "id": "dcb57990",
      "metadata": {
        "execution": {
          "iopub.execute_input": "2024-09-07T09:58:29.818127Z",
          "iopub.status.busy": "2024-09-07T09:58:29.817447Z",
          "iopub.status.idle": "2024-09-07T09:58:29.822037Z",
          "shell.execute_reply": "2024-09-07T09:58:29.821184Z"
        },
        "papermill": {
          "duration": 0.020965,
          "end_time": "2024-09-07T09:58:29.823883",
          "exception": false,
          "start_time": "2024-09-07T09:58:29.802918",
          "status": "completed"
        },
        "tags": [],
        "id": "dcb57990"
      },
      "outputs": [],
      "source": [
        "dataloader = DataLoader(dataset,batch_size=2,shuffle=True)"
      ]
    },
    {
      "cell_type": "markdown",
      "id": "2bff4bf1",
      "metadata": {
        "papermill": {
          "duration": 0.013457,
          "end_time": "2024-09-07T09:58:29.850730",
          "exception": false,
          "start_time": "2024-09-07T09:58:29.837273",
          "status": "completed"
        },
        "tags": [],
        "id": "2bff4bf1"
      },
      "source": [
        "## Define parameters for the model"
      ]
    },
    {
      "cell_type": "code",
      "execution_count": 58,
      "id": "24520ccc",
      "metadata": {
        "execution": {
          "iopub.execute_input": "2024-09-07T09:58:29.879988Z",
          "iopub.status.busy": "2024-09-07T09:58:29.879611Z",
          "iopub.status.idle": "2024-09-07T09:58:29.884070Z",
          "shell.execute_reply": "2024-09-07T09:58:29.883192Z"
        },
        "papermill": {
          "duration": 0.021918,
          "end_time": "2024-09-07T09:58:29.886031",
          "exception": false,
          "start_time": "2024-09-07T09:58:29.864113",
          "status": "completed"
        },
        "tags": [],
        "id": "24520ccc"
      },
      "outputs": [],
      "source": [
        "vocab_size = len(vocab)\n",
        "embedding_dim = 100\n",
        "hidden_dim = 256\n",
        "output_dim = 1"
      ]
    },
    {
      "cell_type": "markdown",
      "id": "c40e3518",
      "metadata": {
        "papermill": {
          "duration": 0.013309,
          "end_time": "2024-09-07T09:58:29.912531",
          "exception": false,
          "start_time": "2024-09-07T09:58:29.899222",
          "status": "completed"
        },
        "tags": [],
        "id": "c40e3518"
      },
      "source": [
        "## Make the sentiment analysis model"
      ]
    },
    {
      "cell_type": "code",
      "execution_count": 59,
      "id": "07230ad5",
      "metadata": {
        "execution": {
          "iopub.execute_input": "2024-09-07T09:58:29.941144Z",
          "iopub.status.busy": "2024-09-07T09:58:29.940471Z",
          "iopub.status.idle": "2024-09-07T09:58:29.974436Z",
          "shell.execute_reply": "2024-09-07T09:58:29.973521Z"
        },
        "papermill": {
          "duration": 0.050991,
          "end_time": "2024-09-07T09:58:29.976635",
          "exception": false,
          "start_time": "2024-09-07T09:58:29.925644",
          "status": "completed"
        },
        "tags": [],
        "id": "07230ad5"
      },
      "outputs": [],
      "source": [
        "model = LSTMSentimentModel(vocab_size,embedding_dim,hidden_dim,output_dim)"
      ]
    },
    {
      "cell_type": "markdown",
      "id": "ffde405f",
      "metadata": {
        "papermill": {
          "duration": 0.013682,
          "end_time": "2024-09-07T09:58:30.004625",
          "exception": false,
          "start_time": "2024-09-07T09:58:29.990943",
          "status": "completed"
        },
        "tags": [],
        "id": "ffde405f"
      },
      "source": [
        "## Make the criterion for loss calcultion and optimizer for backpropagation and update the weights"
      ]
    },
    {
      "cell_type": "code",
      "execution_count": 60,
      "id": "50128f11",
      "metadata": {
        "execution": {
          "iopub.execute_input": "2024-09-07T09:58:30.032935Z",
          "iopub.status.busy": "2024-09-07T09:58:30.032566Z",
          "iopub.status.idle": "2024-09-07T09:58:31.219477Z",
          "shell.execute_reply": "2024-09-07T09:58:31.218658Z"
        },
        "papermill": {
          "duration": 1.203837,
          "end_time": "2024-09-07T09:58:31.221871",
          "exception": false,
          "start_time": "2024-09-07T09:58:30.018034",
          "status": "completed"
        },
        "tags": [],
        "id": "50128f11"
      },
      "outputs": [],
      "source": [
        "citerion = nn.BCEWithLogitsLoss()\n",
        "optimizer = optim.Adam(model.parameters())"
      ]
    },
    {
      "cell_type": "markdown",
      "id": "9c2e8cb5",
      "metadata": {
        "papermill": {
          "duration": 0.013371,
          "end_time": "2024-09-07T09:58:31.248872",
          "exception": false,
          "start_time": "2024-09-07T09:58:31.235501",
          "status": "completed"
        },
        "tags": [],
        "id": "9c2e8cb5"
      },
      "source": [
        "## Iterate over the epochs, calculated loss and make optimize the value"
      ]
    },
    {
      "cell_type": "code",
      "execution_count": 61,
      "id": "29d44c0c",
      "metadata": {
        "execution": {
          "iopub.execute_input": "2024-09-07T09:58:31.277584Z",
          "iopub.status.busy": "2024-09-07T09:58:31.277049Z",
          "iopub.status.idle": "2024-09-07T10:03:22.694030Z",
          "shell.execute_reply": "2024-09-07T10:03:22.692850Z"
        },
        "papermill": {
          "duration": 291.447807,
          "end_time": "2024-09-07T10:03:22.710151",
          "exception": false,
          "start_time": "2024-09-07T09:58:31.262344",
          "status": "completed"
        },
        "tags": [],
        "colab": {
          "base_uri": "https://localhost:8080/"
        },
        "id": "29d44c0c",
        "outputId": "714d7c6a-aa72-448b-da88-ee5248de69dc"
      },
      "outputs": [
        {
          "output_type": "stream",
          "name": "stdout",
          "text": [
            "Epoch 1 , Loss : 0.5262\n",
            "Epoch 2 , Loss : 0.4019\n",
            "Epoch 3 , Loss :-1.6291\n",
            "Epoch 4 , Loss :-17.8948\n",
            "Epoch 5 , Loss :-49.6362\n"
          ]
        }
      ],
      "source": [
        "n_epochs = 5\n",
        "for epoch in range(n_epochs):\n",
        "    model.train()\n",
        "    epoch_loss = 0\n",
        "    for text_batch,lengths_batch,labels_batch in dataloader:\n",
        "        optimizer.zero_grad()\n",
        "        pred = model(text_batch,lengths_batch).squeeze(1)\n",
        "        loss = citerion(pred,labels_batch)\n",
        "        loss.backward()\n",
        "        optimizer.step()\n",
        "        epoch_loss += loss.item()\n",
        "\n",
        "    avg_loss = epoch_loss / len(dataloader)\n",
        "    print(f\"Epoch {epoch+1} , Loss :{ avg_loss: .4f}\")"
      ]
    },
    {
      "cell_type": "markdown",
      "id": "faa168d6",
      "metadata": {
        "papermill": {
          "duration": 0.013492,
          "end_time": "2024-09-07T10:03:22.737483",
          "exception": false,
          "start_time": "2024-09-07T10:03:22.723991",
          "status": "completed"
        },
        "tags": [],
        "id": "faa168d6"
      },
      "source": [
        "## Sample text for the trained model prediction"
      ]
    },
    {
      "cell_type": "code",
      "execution_count": 62,
      "id": "d621688e",
      "metadata": {
        "execution": {
          "iopub.execute_input": "2024-09-07T10:03:22.765975Z",
          "iopub.status.busy": "2024-09-07T10:03:22.765624Z",
          "iopub.status.idle": "2024-09-07T10:03:22.770950Z",
          "shell.execute_reply": "2024-09-07T10:03:22.770058Z"
        },
        "papermill": {
          "duration": 0.021958,
          "end_time": "2024-09-07T10:03:22.772931",
          "exception": false,
          "start_time": "2024-09-07T10:03:22.750973",
          "status": "completed"
        },
        "tags": [],
        "id": "d621688e"
      },
      "outputs": [],
      "source": [
        "text = \"i look very good \"\n",
        "text = [vocab.get(i.lower(),vocab[\"<UNK>\"]) for i in text.split(\" \")]\n",
        "sss = len(text)\n",
        "text = torch.tensor(text).unsqueeze(0)\n",
        "# print(text)\n",
        "# padd = pad_sequence(text, padding_value=vocab['<PAD>'])"
      ]
    },
    {
      "cell_type": "code",
      "execution_count": 63,
      "id": "3e657398",
      "metadata": {
        "execution": {
          "iopub.execute_input": "2024-09-07T10:03:22.801598Z",
          "iopub.status.busy": "2024-09-07T10:03:22.801296Z",
          "iopub.status.idle": "2024-09-07T10:03:22.807260Z",
          "shell.execute_reply": "2024-09-07T10:03:22.806367Z"
        },
        "papermill": {
          "duration": 0.022699,
          "end_time": "2024-09-07T10:03:22.809270",
          "exception": false,
          "start_time": "2024-09-07T10:03:22.786571",
          "status": "completed"
        },
        "tags": [],
        "id": "3e657398"
      },
      "outputs": [],
      "source": [
        "with torch.no_grad():\n",
        "    op = model(text,lengths=[sss])"
      ]
    },
    {
      "cell_type": "code",
      "execution_count": 64,
      "id": "5bb4634a",
      "metadata": {
        "execution": {
          "iopub.execute_input": "2024-09-07T10:03:22.839862Z",
          "iopub.status.busy": "2024-09-07T10:03:22.839528Z",
          "iopub.status.idle": "2024-09-07T10:03:22.844100Z",
          "shell.execute_reply": "2024-09-07T10:03:22.843257Z"
        },
        "papermill": {
          "duration": 0.020804,
          "end_time": "2024-09-07T10:03:22.846041",
          "exception": false,
          "start_time": "2024-09-07T10:03:22.825237",
          "status": "completed"
        },
        "tags": [],
        "id": "5bb4634a"
      },
      "outputs": [],
      "source": [
        "op = torch.sigmoid(op).round()"
      ]
    },
    {
      "cell_type": "code",
      "execution_count": 65,
      "id": "3ce82b8a",
      "metadata": {
        "execution": {
          "iopub.execute_input": "2024-09-07T10:03:22.874625Z",
          "iopub.status.busy": "2024-09-07T10:03:22.874026Z",
          "iopub.status.idle": "2024-09-07T10:03:22.885648Z",
          "shell.execute_reply": "2024-09-07T10:03:22.884801Z"
        },
        "papermill": {
          "duration": 0.027873,
          "end_time": "2024-09-07T10:03:22.887474",
          "exception": false,
          "start_time": "2024-09-07T10:03:22.859601",
          "status": "completed"
        },
        "tags": [],
        "colab": {
          "base_uri": "https://localhost:8080/"
        },
        "id": "3ce82b8a",
        "outputId": "9443569d-00a9-4aa7-a3e6-b5b2685dfd83"
      },
      "outputs": [
        {
          "output_type": "execute_result",
          "data": {
            "text/plain": [
              "tensor([[1.]])"
            ]
          },
          "metadata": {},
          "execution_count": 65
        }
      ],
      "source": [
        "op"
      ]
    },
    {
      "cell_type": "code",
      "source": [
        "from sklearn.metrics import accuracy_score\n",
        "\n",
        "model.eval()\n",
        "all_preds = []\n",
        "all_labels = []\n",
        "\n",
        "with torch.no_grad():\n",
        "  for text_batch, lengths_batch, labels_batch in dataloader:\n",
        "    pred = model(text_batch, lengths_batch).squeeze(1)\n",
        "    pred = torch.sigmoid(pred).round().cpu().numpy()\n",
        "    all_preds.extend(pred)\n",
        "    all_labels.extend(labels_batch.cpu().numpy())\n",
        "\n",
        "accuracy = accuracy_score(all_labels, all_preds)\n",
        "print(f\"Accuracy: {accuracy:.4f}\")\n"
      ],
      "metadata": {
        "colab": {
          "base_uri": "https://localhost:8080/"
        },
        "id": "oj2ZOUX1eX5f",
        "outputId": "019d2c3c-ec4e-4c6d-b40b-92d6b037cef8"
      },
      "id": "oj2ZOUX1eX5f",
      "execution_count": 66,
      "outputs": [
        {
          "output_type": "stream",
          "name": "stdout",
          "text": [
            "Accuracy: 0.6823\n"
          ]
        }
      ]
    }
  ],
  "metadata": {
    "kaggle": {
      "accelerator": "gpu",
      "dataSources": [
        {
          "datasetId": 1340873,
          "sourceId": 2231927,
          "sourceType": "datasetVersion"
        }
      ],
      "dockerImageVersionId": 30761,
      "isGpuEnabled": true,
      "isInternetEnabled": true,
      "language": "python",
      "sourceType": "notebook"
    },
    "kernelspec": {
      "display_name": "Python 3",
      "language": "python",
      "name": "python3"
    },
    "language_info": {
      "codemirror_mode": {
        "name": "ipython",
        "version": 3
      },
      "file_extension": ".py",
      "mimetype": "text/x-python",
      "name": "python",
      "nbconvert_exporter": "python",
      "pygments_lexer": "ipython3",
      "version": "3.10.14"
    },
    "papermill": {
      "default_parameters": {},
      "duration": 318.894724,
      "end_time": "2024-09-07T10:03:25.234187",
      "environment_variables": {},
      "exception": null,
      "input_path": "__notebook__.ipynb",
      "output_path": "__notebook__.ipynb",
      "parameters": {},
      "start_time": "2024-09-07T09:58:06.339463",
      "version": "2.6.0"
    },
    "colab": {
      "provenance": []
    }
  },
  "nbformat": 4,
  "nbformat_minor": 5
}